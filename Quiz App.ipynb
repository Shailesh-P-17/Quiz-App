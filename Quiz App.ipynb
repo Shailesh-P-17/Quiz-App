{
 "cells": [
  {
   "cell_type": "markdown",
   "id": "63c76436",
   "metadata": {},
   "source": [
    "# Quiz App"
   ]
  },
  {
   "cell_type": "markdown",
   "id": "a93d7e2d",
   "metadata": {},
   "source": [
    "##The Quiz Application is a simple interactive game that presents a series of questions to the player. The player needs to choose the correct answer from the provided options. Each correct answer increases the player's score, and at the end of the quiz, the total score is displayed."
   ]
  },
  {
   "cell_type": "code",
   "execution_count": 2,
   "id": "ec1bb6a9",
   "metadata": {},
   "outputs": [],
   "source": [
    "import tkinter as tk\n",
    "from tkinter import messagebox"
   ]
  },
  {
   "cell_type": "code",
   "execution_count": 16,
   "id": "fe93d528",
   "metadata": {},
   "outputs": [],
   "source": [
    "\n",
    "class QuizApp:\n",
    "    \n",
    "    def __init__(self):\n",
    "        \n",
    "        # the quiz_data attribute represents the data for the quiz, including the questions,options and correct answers.\n",
    "        self.quiz_data = [\n",
    "            {\n",
    "                \"question\": \"What is the capital of Japan?\",\n",
    "                \"options\": [\"Tokyo\", \"Beijing\", \"Seoul\", \"Bangkok\"],\n",
    "                \"correct_answer\": 0\n",
    "            },\n",
    "            {\n",
    "                \"question\": \"Who wrote the novel 'Pride and Prejudice'?\",\n",
    "                \"options\": [\"Jane Austen\", \"Emily Bronte\", \"Charlotte Bronte\", \"Louisa May Alcott\"],\n",
    "                \"correct_answer\": 0\n",
    "            },\n",
    "            {\n",
    "                \"question\": \"What is the chemical symbol for the element Gold?\",\n",
    "                \"options\": [ \"Ag\", \"Au\", \"Cu\", \"Fe\"],\n",
    "                \"correct_answer\": 1\n",
    "            },\n",
    "        ]\n",
    "        \n",
    "        # the current_question_index and score variable initialized to 0 , score variable track the user's score throughout the quiz.\n",
    "        self.current_question_index = 0\n",
    "        self.score = 0\n",
    "        \n",
    "        # create the GUI usinh tk.Tk() and set the title of application (\"Quiz App\")\n",
    "        self.window = tk.Tk()\n",
    "        self.window.title(\"Quiz App\")\n",
    "\n",
    "        self.question_label = tk.Label(self.window, text=\"\")\n",
    "        self.question_label.pack()\n",
    "\n",
    "        self.options_frame = tk.Frame(self.window)\n",
    "        self.options_frame.pack()\n",
    "\n",
    "        self.option_buttons = []\n",
    "        \n",
    "        for i in range(4):\n",
    "            button = tk.Button(self.options_frame, text=\"\", width=25, command=lambda i=i: self.check_answer(i))\n",
    "            button.pack(pady=10)\n",
    "            self.option_buttons.append(button)\n",
    "\n",
    "        self.next_question_button = tk.Button(self.window, text=\"Next Question\", width=60, command=self.next_question)\n",
    "        self.next_question_button.pack(pady=60)\n",
    "\n",
    "    def start_quiz(self):\n",
    "        self.load_question()\n",
    "        self.window.mainloop()\n",
    "    '''\n",
    "    the load_question method retrieves the question and options for the current question index from quiz_data \n",
    "    and updates the corresponding GUI labels and buttons.\n",
    "    '''\n",
    "    def load_question(self):\n",
    "         \n",
    "        question_data = self.quiz_data[self.current_question_index]\n",
    "        self.question_label.config(text=question_data[\"question\"])\n",
    "        options = question_data[\"options\"]\n",
    "        for i in range(4):\n",
    "            self.option_buttons[i].config(text=options[i])\n",
    "    \n",
    "    # The check_answer method compares the selected option index with the correct answer index and updates the score accordingly.\n",
    "    def check_answer(self, selected_option):\n",
    "        \n",
    "        question_data = self.quiz_data[self.current_question_index]\n",
    "        correct_answer_index = question_data[\"correct_answer\"]\n",
    "        if selected_option == correct_answer_index:\n",
    "            self.score += 1\n",
    "            messagebox.showinfo(\"Correct\", \"Your answer is correct!\")\n",
    "        else:\n",
    "            messagebox.showinfo(\"Incorrect\", \"Your answer is incorrect!\")\n",
    "    \n",
    "    # it is called when user clicks the \"next question\" button.\n",
    "    def next_question(self):\n",
    "        \n",
    "        self.current_question_index += 1\n",
    "        if self.current_question_index == len(self.quiz_data):\n",
    "            messagebox.showinfo(\"Quiz Over\", f\"Quiz finished. Your score: {self.score}/{len(self.quiz_data)}\")\n",
    "            self.window.quit()\n",
    "        else:\n",
    "            self.load_question()\n",
    "\n",
    "quiz_app = QuizApp()\n",
    "quiz_app.start_quiz()\n",
    " "
   ]
  },
  {
   "cell_type": "code",
   "execution_count": null,
   "id": "46254194",
   "metadata": {},
   "outputs": [],
   "source": []
  }
 ],
 "metadata": {
  "kernelspec": {
   "display_name": "Python 3 (ipykernel)",
   "language": "python",
   "name": "python3"
  },
  "language_info": {
   "codemirror_mode": {
    "name": "ipython",
    "version": 3
   },
   "file_extension": ".py",
   "mimetype": "text/x-python",
   "name": "python",
   "nbconvert_exporter": "python",
   "pygments_lexer": "ipython3",
   "version": "3.10.9"
  }
 },
 "nbformat": 4,
 "nbformat_minor": 5
}
